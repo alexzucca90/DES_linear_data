{
 "cells": [
  {
   "cell_type": "markdown",
   "metadata": {},
   "source": [
    "# DES Weak Lensing dataset 1 year: cutting off nonlinear data"
   ]
  },
  {
   "cell_type": "markdown",
   "metadata": {},
   "source": [
    "This is the notebook used to test the DES cutoff code."
   ]
  },
  {
   "cell_type": "code",
   "execution_count": 2,
   "metadata": {},
   "outputs": [],
   "source": [
    "import numpy as np\n",
    "import matplotlib.pyplot as plt"
   ]
  },
  {
   "cell_type": "code",
   "execution_count": 3,
   "metadata": {},
   "outputs": [],
   "source": [
    "invcov = np.loadtxt('./data/DES_inv_cov.dat')"
   ]
  },
  {
   "cell_type": "code",
   "execution_count": 4,
   "metadata": {},
   "outputs": [],
   "source": [
    "dat = np.loadtxt('./data/DES_vec_data.dat')"
   ]
  },
  {
   "cell_type": "code",
   "execution_count": 5,
   "metadata": {},
   "outputs": [],
   "source": [
    "dl = np.loadtxt('./data/DES_theory_vec_linear.dat')"
   ]
  },
  {
   "cell_type": "code",
   "execution_count": 6,
   "metadata": {},
   "outputs": [],
   "source": [
    "dnl = np.loadtxt('./data/DES_theory_vec_nonlinear.dat')"
   ]
  },
  {
   "cell_type": "code",
   "execution_count": 7,
   "metadata": {},
   "outputs": [],
   "source": [
    "DL = dl - dat"
   ]
  },
  {
   "cell_type": "code",
   "execution_count": 8,
   "metadata": {},
   "outputs": [],
   "source": [
    "DNL = dnl - dat"
   ]
  },
  {
   "cell_type": "code",
   "execution_count": 9,
   "metadata": {},
   "outputs": [
    {
     "name": "stdout",
     "output_type": "stream",
     "text": [
      "NL like: 519.080726272\n"
     ]
    }
   ],
   "source": [
    "print('NL like:',DNL.T @ invcov @ DNL)"
   ]
  },
  {
   "cell_type": "code",
   "execution_count": 10,
   "metadata": {},
   "outputs": [
    {
     "name": "stdout",
     "output_type": "stream",
     "text": [
      "L like: 564.77676901\n"
     ]
    }
   ],
   "source": [
    "print('L like:', DL.T @invcov @ DL)"
   ]
  },
  {
   "cell_type": "code",
   "execution_count": 11,
   "metadata": {},
   "outputs": [],
   "source": [
    "delta_chi2 = np.abs(DNL.T @ invcov @ DNL - DL.T @invcov @ DL)"
   ]
  },
  {
   "cell_type": "code",
   "execution_count": 12,
   "metadata": {},
   "outputs": [
    {
     "data": {
      "text/plain": [
       "45.696042737650714"
      ]
     },
     "execution_count": 12,
     "metadata": {},
     "output_type": "execute_result"
    }
   ],
   "source": [
    "delta_chi2"
   ]
  },
  {
   "cell_type": "code",
   "execution_count": 13,
   "metadata": {},
   "outputs": [],
   "source": [
    "def remove_data(threshold, data, tnl, tl, invcov, method = 1):\n",
    "\n",
    "    if method == 1:\n",
    "        # copyt the data\n",
    "        DNL_new = tnl.copy() - data.copy()\n",
    "        DL_new = tl.copy() - data.copy()\n",
    "        delta_chi2 = np.abs(DNL_new.T @ invcov @ DNL_new - DL_new.T @invcov @ DL_new)\n",
    "    elif method == 2:\n",
    "        DNL_new = tnl.copy() \n",
    "        DL_new = tl.copy()\n",
    "        delta_chi2 = np.abs(DNL_new.T @ invcov @ DNL_new - DL_new.T @invcov @ DL_new)\n",
    "    elif method == 3:\n",
    "        D = tnl - tl\n",
    "        #delta_chi2 = D.T @invcov @ D\n",
    "        delta_chi2 = np.matmul(D.T, np.matmul(invcov, D))\n",
    "        \n",
    "    print('inital delta_chi2:', delta_chi2)\n",
    "    delta_chi2_now = delta_chi2\n",
    "    ind_to_remove = []\n",
    "    chi2_evol = []\n",
    "    chi2_evol.append(delta_chi2_now)\n",
    "    k=0\n",
    "    while(delta_chi2_now > threshold and k <  data.shape[0]+1):\n",
    "        #print(k)\n",
    "        contr = []\n",
    "        for i in range(data.shape[0]):\n",
    "            if (method == 1 or method == 2):\n",
    "                DNL_trial = DNL_new.copy()\n",
    "                DL_trial = DL_new.copy()\n",
    "                DNL_trial[i] = 0.0\n",
    "                DL_trial[i] =  0.0\n",
    "                delta_chi2_i = np.abs(DNL_trial.T @ invcov @ DNL_trial - DL_trial.T @ invcov @ DL_trial)\n",
    "                contr.append(np.abs(delta_chi2_i-delta_chi2_now))\n",
    "            \n",
    "            elif method == 3:\n",
    "                D_trial = D.copy()\n",
    "                D_trial[i] = 0.0\n",
    "\n",
    "                delta_chi2_i = D_trial.T @ invcov @ D_trial\n",
    "                #delta_chi2_i = np.matmul(D_trial.T, np.matmul(invcov, D_trial))\n",
    "                #if (delta_chi2_i-delta_chi2_now < 0 ):\n",
    "                contr.append(np.abs(delta_chi2_i-delta_chi2_now))\n",
    "            \n",
    "        j = contr.index(np.max(contr))\n",
    "                \n",
    "        ind_to_remove.append(j)\n",
    "        #print('ind_to_rem',j)\n",
    "        \n",
    "        if (method == 1 or method == 2):\n",
    "            DNL_new[j] = 0.0\n",
    "            DL_new[j]  = 0.0\n",
    "            delta_chi2_now = np.abs(DNL_new.T @ invcov @ DNL_new - DL_new.T @ invcov @ DL_new)  \n",
    "        elif( method == 3):\n",
    "            D[j] = 0.0\n",
    "            delta_chi2_now = np.abs(D.T @ invcov @D)\n",
    "            #delta_chi2_now = np.matmul(D.T, np.matmul(invcov,D))\n",
    "            \n",
    "        chi2_evol.append(delta_chi2_now)\n",
    "        #print('delta_chi2_now:', delta_chi2_now)\n",
    "        k+=1\n",
    "        \n",
    "    return ind_to_remove, chi2_evol"
   ]
  },
  {
   "cell_type": "code",
   "execution_count": 14,
   "metadata": {},
   "outputs": [
    {
     "name": "stdout",
     "output_type": "stream",
     "text": [
      "inital delta_chi2: 57.1514089906\n"
     ]
    }
   ],
   "source": [
    "threshold = 1.0\n",
    "remove_index, chi2_steps = remove_data(threshold=threshold, data=dat,invcov=invcov, tnl=dnl,tl=dl,method=3 )"
   ]
  },
  {
   "cell_type": "markdown",
   "metadata": {},
   "source": [
    "plotting progressive $\\Delta \\chi^2$"
   ]
  },
  {
   "cell_type": "code",
   "execution_count": 15,
   "metadata": {},
   "outputs": [
    {
     "data": {
      "image/png": "[encoded data removed]",
      "text/plain": [
       "<Figure size 432x288 with 1 Axes>"
      ]
     },
     "metadata": {},
     "output_type": "display_data"
    }
   ],
   "source": [
    "plt.plot(range(len(chi2_steps)), chi2_steps)\n",
    "plt.ylabel(r'$\\Delta \\chi^2$')\n",
    "plt.xlabel('step')\n",
    "plt.axhline(threshold, color = 'black', linestyle = '-', linewidth = 0.75)\n",
    "plt.show()"
   ]
  },
  {
   "cell_type": "code",
   "execution_count": 16,
   "metadata": {},
   "outputs": [
    {
     "data": {
      "text/plain": [
       "178"
      ]
     },
     "execution_count": 16,
     "metadata": {},
     "output_type": "execute_result"
    }
   ],
   "source": [
    "len(remove_index)"
   ]
  },
  {
   "cell_type": "code",
   "execution_count": 17,
   "metadata": {},
   "outputs": [
    {
     "data": {
      "text/plain": [
       "279"
      ]
     },
     "execution_count": 17,
     "metadata": {},
     "output_type": "execute_result"
    }
   ],
   "source": [
    "len(dnl)-len(remove_index)"
   ]
  },
  {
   "cell_type": "code",
   "execution_count": 18,
   "metadata": {},
   "outputs": [],
   "source": [
    "used_items = np.loadtxt('./data/DES_used_items.dat')"
   ]
  },
  {
   "cell_type": "code",
   "execution_count": 19,
   "metadata": {},
   "outputs": [
    {
     "data": {
      "text/plain": [
       "array([  6.,   7.,   8.,   9.,  10.,  11.,  12.,  13.,  14.,  15.,  16.,\n",
       "        17.,  18.,  19.,  20.])"
      ]
     },
     "execution_count": 19,
     "metadata": {},
     "output_type": "execute_result"
    }
   ],
   "source": [
    "used_items[:15,3]"
   ]
  },
  {
   "cell_type": "code",
   "execution_count": 20,
   "metadata": {},
   "outputs": [
    {
     "data": {
      "text/plain": [
       "(457, 4)"
      ]
     },
     "execution_count": 20,
     "metadata": {},
     "output_type": "execute_result"
    }
   ],
   "source": [
    "used_items.shape"
   ]
  },
  {
   "cell_type": "code",
   "execution_count": 21,
   "metadata": {},
   "outputs": [
    {
     "data": {
      "text/plain": [
       "(array([ 0,  1,  2,  3,  4,  5,  6,  7,  8,  9, 10, 11, 12, 13, 14]),)"
      ]
     },
     "execution_count": 21,
     "metadata": {},
     "output_type": "execute_result"
    }
   ],
   "source": [
    "np.where((used_items[:,0] == 1.0) & (used_items[:,1] == 1.0) & (used_items[:,2] == 1))"
   ]
  },
  {
   "cell_type": "code",
   "execution_count": 22,
   "metadata": {},
   "outputs": [],
   "source": [
    "to_use_items = np.delete(used_items, remove_index, axis = 0)"
   ]
  },
  {
   "cell_type": "code",
   "execution_count": 23,
   "metadata": {},
   "outputs": [
    {
     "data": {
      "text/plain": [
       "array([[  1.,   1.,   1.,  11.],\n",
       "       [  1.,   1.,   1.,  12.],\n",
       "       [  1.,   1.,   1.,  13.],\n",
       "       ..., \n",
       "       [  4.,   5.,   5.,  18.],\n",
       "       [  4.,   5.,   5.,  19.],\n",
       "       [  4.,   5.,   5.,  20.]])"
      ]
     },
     "execution_count": 23,
     "metadata": {},
     "output_type": "execute_result"
    }
   ],
   "source": [
    "to_use_items"
   ]
  },
  {
   "cell_type": "code",
   "execution_count": 24,
   "metadata": {},
   "outputs": [
    {
     "data": {
      "text/plain": [
       "(279, 4)"
      ]
     },
     "execution_count": 24,
     "metadata": {},
     "output_type": "execute_result"
    }
   ],
   "source": [
    "to_use_items.shape"
   ]
  },
  {
   "cell_type": "code",
   "execution_count": 25,
   "metadata": {},
   "outputs": [],
   "source": [
    "xip = to_use_items[ np.where((to_use_items[:,0] == 1.0))]"
   ]
  },
  {
   "cell_type": "code",
   "execution_count": 26,
   "metadata": {},
   "outputs": [
    {
     "data": {
      "text/plain": [
       "(105, 4)"
      ]
     },
     "execution_count": 26,
     "metadata": {},
     "output_type": "execute_result"
    }
   ],
   "source": [
    "xip.shape"
   ]
  },
  {
   "cell_type": "code",
   "execution_count": 27,
   "metadata": {},
   "outputs": [
    {
     "data": {
      "text/plain": [
       "array([[  1.,   1.,   1.,  11.],\n",
       "       [  1.,   1.,   1.,  12.],\n",
       "       [  1.,   1.,   1.,  13.],\n",
       "       [  1.,   1.,   1.,  14.],\n",
       "       [  1.,   1.,   1.,  15.],\n",
       "       [  1.,   1.,   1.,  16.],\n",
       "       [  1.,   1.,   1.,  17.],\n",
       "       [  1.,   1.,   1.,  18.],\n",
       "       [  1.,   1.,   1.,  19.],\n",
       "       [  1.,   1.,   1.,  20.],\n",
       "       [  1.,   1.,   2.,  11.],\n",
       "       [  1.,   1.,   2.,  12.],\n",
       "       [  1.,   1.,   2.,  13.],\n",
       "       [  1.,   1.,   2.,  14.],\n",
       "       [  1.,   1.,   2.,  15.],\n",
       "       [  1.,   1.,   2.,  16.],\n",
       "       [  1.,   1.,   2.,  17.],\n",
       "       [  1.,   1.,   2.,  18.],\n",
       "       [  1.,   1.,   2.,  19.],\n",
       "       [  1.,   1.,   2.,  20.],\n",
       "       [  1.,   1.,   3.,  12.],\n",
       "       [  1.,   1.,   3.,  13.],\n",
       "       [  1.,   1.,   3.,  14.],\n",
       "       [  1.,   1.,   3.,  15.],\n",
       "       [  1.,   1.,   3.,  16.],\n",
       "       [  1.,   1.,   3.,  17.],\n",
       "       [  1.,   1.,   3.,  18.],\n",
       "       [  1.,   1.,   3.,  19.],\n",
       "       [  1.,   1.,   3.,  20.],\n",
       "       [  1.,   1.,   4.,  11.],\n",
       "       [  1.,   1.,   4.,  12.],\n",
       "       [  1.,   1.,   4.,  13.],\n",
       "       [  1.,   1.,   4.,  14.],\n",
       "       [  1.,   1.,   4.,  15.],\n",
       "       [  1.,   1.,   4.,  16.],\n",
       "       [  1.,   1.,   4.,  17.],\n",
       "       [  1.,   1.,   4.,  18.],\n",
       "       [  1.,   1.,   4.,  19.],\n",
       "       [  1.,   1.,   4.,  20.],\n",
       "       [  1.,   2.,   2.,  10.],\n",
       "       [  1.,   2.,   2.,  11.],\n",
       "       [  1.,   2.,   2.,  12.],\n",
       "       [  1.,   2.,   2.,  13.],\n",
       "       [  1.,   2.,   2.,  14.],\n",
       "       [  1.,   2.,   2.,  15.],\n",
       "       [  1.,   2.,   2.,  16.],\n",
       "       [  1.,   2.,   2.,  17.],\n",
       "       [  1.,   2.,   2.,  18.],\n",
       "       [  1.,   2.,   2.,  19.],\n",
       "       [  1.,   2.,   2.,  20.],\n",
       "       [  1.,   2.,   3.,  11.],\n",
       "       [  1.,   2.,   3.,  12.],\n",
       "       [  1.,   2.,   3.,  13.],\n",
       "       [  1.,   2.,   3.,  14.],\n",
       "       [  1.,   2.,   3.,  15.],\n",
       "       [  1.,   2.,   3.,  16.],\n",
       "       [  1.,   2.,   3.,  17.],\n",
       "       [  1.,   2.,   3.,  18.],\n",
       "       [  1.,   2.,   3.,  19.],\n",
       "       [  1.,   2.,   3.,  20.],\n",
       "       [  1.,   2.,   4.,  10.],\n",
       "       [  1.,   2.,   4.,  11.],\n",
       "       [  1.,   2.,   4.,  12.],\n",
       "       [  1.,   2.,   4.,  13.],\n",
       "       [  1.,   2.,   4.,  14.],\n",
       "       [  1.,   2.,   4.,  15.],\n",
       "       [  1.,   2.,   4.,  16.],\n",
       "       [  1.,   2.,   4.,  17.],\n",
       "       [  1.,   2.,   4.,  18.],\n",
       "       [  1.,   2.,   4.,  19.],\n",
       "       [  1.,   2.,   4.,  20.],\n",
       "       [  1.,   3.,   3.,  10.],\n",
       "       [  1.,   3.,   3.,  11.],\n",
       "       [  1.,   3.,   3.,  12.],\n",
       "       [  1.,   3.,   3.,  13.],\n",
       "       [  1.,   3.,   3.,  14.],\n",
       "       [  1.,   3.,   3.,  15.],\n",
       "       [  1.,   3.,   3.,  16.],\n",
       "       [  1.,   3.,   3.,  17.],\n",
       "       [  1.,   3.,   3.,  18.],\n",
       "       [  1.,   3.,   3.,  19.],\n",
       "       [  1.,   3.,   3.,  20.],\n",
       "       [  1.,   3.,   4.,  10.],\n",
       "       [  1.,   3.,   4.,  11.],\n",
       "       [  1.,   3.,   4.,  12.],\n",
       "       [  1.,   3.,   4.,  13.],\n",
       "       [  1.,   3.,   4.,  14.],\n",
       "       [  1.,   3.,   4.,  15.],\n",
       "       [  1.,   3.,   4.,  16.],\n",
       "       [  1.,   3.,   4.,  17.],\n",
       "       [  1.,   3.,   4.,  18.],\n",
       "       [  1.,   3.,   4.,  19.],\n",
       "       [  1.,   3.,   4.,  20.],\n",
       "       [  1.,   4.,   4.,   9.],\n",
       "       [  1.,   4.,   4.,  10.],\n",
       "       [  1.,   4.,   4.,  11.],\n",
       "       [  1.,   4.,   4.,  12.],\n",
       "       [  1.,   4.,   4.,  13.],\n",
       "       [  1.,   4.,   4.,  14.],\n",
       "       [  1.,   4.,   4.,  15.],\n",
       "       [  1.,   4.,   4.,  16.],\n",
       "       [  1.,   4.,   4.,  17.],\n",
       "       [  1.,   4.,   4.,  18.],\n",
       "       [  1.,   4.,   4.,  19.],\n",
       "       [  1.,   4.,   4.,  20.]])"
      ]
     },
     "execution_count": 27,
     "metadata": {},
     "output_type": "execute_result"
    }
   ],
   "source": [
    "xip"
   ]
  },
  {
   "cell_type": "code",
   "execution_count": 28,
   "metadata": {},
   "outputs": [],
   "source": [
    "xim = to_use_items[ np.where((to_use_items[:,0] == 2.0))]"
   ]
  },
  {
   "cell_type": "code",
   "execution_count": 29,
   "metadata": {},
   "outputs": [
    {
     "data": {
      "text/plain": [
       "(1, 4)"
      ]
     },
     "execution_count": 29,
     "metadata": {},
     "output_type": "execute_result"
    }
   ],
   "source": [
    "xim.shape"
   ]
  },
  {
   "cell_type": "code",
   "execution_count": 30,
   "metadata": {},
   "outputs": [
    {
     "data": {
      "text/plain": [
       "array([[  2.,   4.,   4.,  20.]])"
      ]
     },
     "execution_count": 30,
     "metadata": {},
     "output_type": "execute_result"
    }
   ],
   "source": [
    "xim"
   ]
  },
  {
   "cell_type": "code",
   "execution_count": 31,
   "metadata": {},
   "outputs": [],
   "source": [
    "gammat = to_use_items[ np.where((to_use_items[:,0] == 3.0))]"
   ]
  },
  {
   "cell_type": "code",
   "execution_count": 32,
   "metadata": {},
   "outputs": [
    {
     "data": {
      "text/plain": [
       "(149, 4)"
      ]
     },
     "execution_count": 32,
     "metadata": {},
     "output_type": "execute_result"
    }
   ],
   "source": [
    "gammat.shape"
   ]
  },
  {
   "cell_type": "code",
   "execution_count": 33,
   "metadata": {},
   "outputs": [],
   "source": [
    "wtheta = to_use_items[ np.where((to_use_items[:,0] == 4.0))]"
   ]
  },
  {
   "cell_type": "code",
   "execution_count": 34,
   "metadata": {},
   "outputs": [
    {
     "data": {
      "text/plain": [
       "(24, 4)"
      ]
     },
     "execution_count": 34,
     "metadata": {},
     "output_type": "execute_result"
    }
   ],
   "source": [
    "wtheta.shape"
   ]
  },
  {
   "cell_type": "code",
   "execution_count": 37,
   "metadata": {},
   "outputs": [
    {
     "data": {
      "text/plain": [
       "array([   2.82892205,    3.56145195,    4.48383125,    5.64515088,\n",
       "          7.10700175,    8.94802743,   11.26359312,   14.18012136,\n",
       "         17.85303226,   22.47319161,   28.29405514,   35.61746915,\n",
       "         44.8381916 ,   56.44731998,   71.05929607,   89.45541049,\n",
       "        112.61560585,  141.76374877,  178.46262927,  224.64388959])"
      ]
     },
     "execution_count": 37,
     "metadata": {},
     "output_type": "execute_result"
    }
   ],
   "source": [
    "thetas = np.loadtxt('./data/DES_1YR_final_theta_bins.dat')\n",
    "thetas"
   ]
  },
  {
   "cell_type": "code",
   "execution_count": 38,
   "metadata": {},
   "outputs": [],
   "source": [
    "for i in range(xip.shape[0]):\n",
    "    xip[i,3] = thetas[int(xip[i,3])-1]"
   ]
  },
  {
   "cell_type": "code",
   "execution_count": 39,
   "metadata": {},
   "outputs": [
    {
     "data": {
      "text/plain": [
       "array([[   1.        ,    1.        ,    1.        ,   28.29405514],\n",
       "       [   1.        ,    1.        ,    1.        ,   35.61746915],\n",
       "       [   1.        ,    1.        ,    1.        ,   44.8381916 ],\n",
       "       [   1.        ,    1.        ,    1.        ,   56.44731998],\n",
       "       [   1.        ,    1.        ,    1.        ,   71.05929607],\n",
       "       [   1.        ,    1.        ,    1.        ,   89.45541049],\n",
       "       [   1.        ,    1.        ,    1.        ,  112.61560585],\n",
       "       [   1.        ,    1.        ,    1.        ,  141.76374877],\n",
       "       [   1.        ,    1.        ,    1.        ,  178.46262927],\n",
       "       [   1.        ,    1.        ,    1.        ,  224.64388959],\n",
       "       [   1.        ,    1.        ,    2.        ,   28.29405514],\n",
       "       [   1.        ,    1.        ,    2.        ,   35.61746915],\n",
       "       [   1.        ,    1.        ,    2.        ,   44.8381916 ],\n",
       "       [   1.        ,    1.        ,    2.        ,   56.44731998],\n",
       "       [   1.        ,    1.        ,    2.        ,   71.05929607],\n",
       "       [   1.        ,    1.        ,    2.        ,   89.45541049],\n",
       "       [   1.        ,    1.        ,    2.        ,  112.61560585],\n",
       "       [   1.        ,    1.        ,    2.        ,  141.76374877],\n",
       "       [   1.        ,    1.        ,    2.        ,  178.46262927],\n",
       "       [   1.        ,    1.        ,    2.        ,  224.64388959],\n",
       "       [   1.        ,    1.        ,    3.        ,   35.61746915],\n",
       "       [   1.        ,    1.        ,    3.        ,   44.8381916 ],\n",
       "       [   1.        ,    1.        ,    3.        ,   56.44731998],\n",
       "       [   1.        ,    1.        ,    3.        ,   71.05929607],\n",
       "       [   1.        ,    1.        ,    3.        ,   89.45541049],\n",
       "       [   1.        ,    1.        ,    3.        ,  112.61560585],\n",
       "       [   1.        ,    1.        ,    3.        ,  141.76374877],\n",
       "       [   1.        ,    1.        ,    3.        ,  178.46262927],\n",
       "       [   1.        ,    1.        ,    3.        ,  224.64388959],\n",
       "       [   1.        ,    1.        ,    4.        ,   28.29405514],\n",
       "       [   1.        ,    1.        ,    4.        ,   35.61746915],\n",
       "       [   1.        ,    1.        ,    4.        ,   44.8381916 ],\n",
       "       [   1.        ,    1.        ,    4.        ,   56.44731998],\n",
       "       [   1.        ,    1.        ,    4.        ,   71.05929607],\n",
       "       [   1.        ,    1.        ,    4.        ,   89.45541049],\n",
       "       [   1.        ,    1.        ,    4.        ,  112.61560585],\n",
       "       [   1.        ,    1.        ,    4.        ,  141.76374877],\n",
       "       [   1.        ,    1.        ,    4.        ,  178.46262927],\n",
       "       [   1.        ,    1.        ,    4.        ,  224.64388959],\n",
       "       [   1.        ,    2.        ,    2.        ,   22.47319161],\n",
       "       [   1.        ,    2.        ,    2.        ,   28.29405514],\n",
       "       [   1.        ,    2.        ,    2.        ,   35.61746915],\n",
       "       [   1.        ,    2.        ,    2.        ,   44.8381916 ],\n",
       "       [   1.        ,    2.        ,    2.        ,   56.44731998],\n",
       "       [   1.        ,    2.        ,    2.        ,   71.05929607],\n",
       "       [   1.        ,    2.        ,    2.        ,   89.45541049],\n",
       "       [   1.        ,    2.        ,    2.        ,  112.61560585],\n",
       "       [   1.        ,    2.        ,    2.        ,  141.76374877],\n",
       "       [   1.        ,    2.        ,    2.        ,  178.46262927],\n",
       "       [   1.        ,    2.        ,    2.        ,  224.64388959],\n",
       "       [   1.        ,    2.        ,    3.        ,   28.29405514],\n",
       "       [   1.        ,    2.        ,    3.        ,   35.61746915],\n",
       "       [   1.        ,    2.        ,    3.        ,   44.8381916 ],\n",
       "       [   1.        ,    2.        ,    3.        ,   56.44731998],\n",
       "       [   1.        ,    2.        ,    3.        ,   71.05929607],\n",
       "       [   1.        ,    2.        ,    3.        ,   89.45541049],\n",
       "       [   1.        ,    2.        ,    3.        ,  112.61560585],\n",
       "       [   1.        ,    2.        ,    3.        ,  141.76374877],\n",
       "       [   1.        ,    2.        ,    3.        ,  178.46262927],\n",
       "       [   1.        ,    2.        ,    3.        ,  224.64388959],\n",
       "       [   1.        ,    2.        ,    4.        ,   22.47319161],\n",
       "       [   1.        ,    2.        ,    4.        ,   28.29405514],\n",
       "       [   1.        ,    2.        ,    4.        ,   35.61746915],\n",
       "       [   1.        ,    2.        ,    4.        ,   44.8381916 ],\n",
       "       [   1.        ,    2.        ,    4.        ,   56.44731998],\n",
       "       [   1.        ,    2.        ,    4.        ,   71.05929607],\n",
       "       [   1.        ,    2.        ,    4.        ,   89.45541049],\n",
       "       [   1.        ,    2.        ,    4.        ,  112.61560585],\n",
       "       [   1.        ,    2.        ,    4.        ,  141.76374877],\n",
       "       [   1.        ,    2.        ,    4.        ,  178.46262927],\n",
       "       [   1.        ,    2.        ,    4.        ,  224.64388959],\n",
       "       [   1.        ,    3.        ,    3.        ,   22.47319161],\n",
       "       [   1.        ,    3.        ,    3.        ,   28.29405514],\n",
       "       [   1.        ,    3.        ,    3.        ,   35.61746915],\n",
       "       [   1.        ,    3.        ,    3.        ,   44.8381916 ],\n",
       "       [   1.        ,    3.        ,    3.        ,   56.44731998],\n",
       "       [   1.        ,    3.        ,    3.        ,   71.05929607],\n",
       "       [   1.        ,    3.        ,    3.        ,   89.45541049],\n",
       "       [   1.        ,    3.        ,    3.        ,  112.61560585],\n",
       "       [   1.        ,    3.        ,    3.        ,  141.76374877],\n",
       "       [   1.        ,    3.        ,    3.        ,  178.46262927],\n",
       "       [   1.        ,    3.        ,    3.        ,  224.64388959],\n",
       "       [   1.        ,    3.        ,    4.        ,   22.47319161],\n",
       "       [   1.        ,    3.        ,    4.        ,   28.29405514],\n",
       "       [   1.        ,    3.        ,    4.        ,   35.61746915],\n",
       "       [   1.        ,    3.        ,    4.        ,   44.8381916 ],\n",
       "       [   1.        ,    3.        ,    4.        ,   56.44731998],\n",
       "       [   1.        ,    3.        ,    4.        ,   71.05929607],\n",
       "       [   1.        ,    3.        ,    4.        ,   89.45541049],\n",
       "       [   1.        ,    3.        ,    4.        ,  112.61560585],\n",
       "       [   1.        ,    3.        ,    4.        ,  141.76374877],\n",
       "       [   1.        ,    3.        ,    4.        ,  178.46262927],\n",
       "       [   1.        ,    3.        ,    4.        ,  224.64388959],\n",
       "       [   1.        ,    4.        ,    4.        ,   17.85303226],\n",
       "       [   1.        ,    4.        ,    4.        ,   22.47319161],\n",
       "       [   1.        ,    4.        ,    4.        ,   28.29405514],\n",
       "       [   1.        ,    4.        ,    4.        ,   35.61746915],\n",
       "       [   1.        ,    4.        ,    4.        ,   44.8381916 ],\n",
       "       [   1.        ,    4.        ,    4.        ,   56.44731998],\n",
       "       [   1.        ,    4.        ,    4.        ,   71.05929607],\n",
       "       [   1.        ,    4.        ,    4.        ,   89.45541049],\n",
       "       [   1.        ,    4.        ,    4.        ,  112.61560585],\n",
       "       [   1.        ,    4.        ,    4.        ,  141.76374877],\n",
       "       [   1.        ,    4.        ,    4.        ,  178.46262927],\n",
       "       [   1.        ,    4.        ,    4.        ,  224.64388959]])"
      ]
     },
     "execution_count": 39,
     "metadata": {},
     "output_type": "execute_result"
    }
   ],
   "source": [
    "xip"
   ]
  },
  {
   "cell_type": "code",
   "execution_count": 40,
   "metadata": {},
   "outputs": [
    {
     "name": "stdout",
     "output_type": "stream",
     "text": [
      "XIP:\n",
      "xip   1 1 28.0 225.0\n",
      "xip   1 2 28.0 225.0\n",
      "xip   1 3 35.0 225.0\n",
      "xip   1 4 28.0 225.0\n",
      "xip   2 2 22.0 225.0\n",
      "xip   2 3 28.0 225.0\n",
      "xip   2 4 22.0 225.0\n",
      "xip   3 3 22.0 225.0\n",
      "xip   3 4 22.0 225.0\n",
      "xip   4 4 17.0 225.0\n"
     ]
    }
   ],
   "source": [
    "print('XIP:')\n",
    "for i in range(1,5):\n",
    "    for j in range(1,5):\n",
    "        #print(i,j)\n",
    "        xip_this = xip[np.where((xip[:,1] == i) &  (xip[:,2] == j)) ]\n",
    "        if xip_this.shape[0] > 0:\n",
    "            theta_max = xip_this[:,3].max()\n",
    "            theta_min = xip_this[:,3].min()\n",
    "            print('xip  ',i,j,np.floor(theta_min), np.ceil(theta_max))\n",
    "        "
   ]
  },
  {
   "cell_type": "code",
   "execution_count": 41,
   "metadata": {},
   "outputs": [],
   "source": [
    "for i in range(xim.shape[0]):\n",
    "    xim[i,3] = thetas[int(xim[i,3])-1]"
   ]
  },
  {
   "cell_type": "code",
   "execution_count": 42,
   "metadata": {},
   "outputs": [
    {
     "name": "stdout",
     "output_type": "stream",
     "text": [
      "XIM:\n",
      "xim   4 4 224.0 225.0\n"
     ]
    }
   ],
   "source": [
    "print('XIM:')\n",
    "for i in range(1,5):\n",
    "    for j in range(1,5):\n",
    "        #print(i,j)\n",
    "        xim_this = xim[np.where((xim[:,1] == i) &  (xim[:,2] == j)) ]\n",
    "        if xim_this.shape[0]>0:\n",
    "            theta_max = xim_this[:,3].max()\n",
    "            theta_min = xim_this[:,3].min()\n",
    "            print('xim  ',i,j,np.floor(theta_min), np.ceil(theta_max))"
   ]
  },
  {
   "cell_type": "code",
   "execution_count": 43,
   "metadata": {},
   "outputs": [],
   "source": [
    "for i in range(gammat.shape[0]):\n",
    "    gammat[i,3] = thetas[int(gammat[i,3])-1]"
   ]
  },
  {
   "cell_type": "code",
   "execution_count": 44,
   "metadata": {},
   "outputs": [
    {
     "name": "stdout",
     "output_type": "stream",
     "text": [
      "gamma t:\n",
      "gammat   1 1 112.0 225.0\n",
      "gammat   1 2 112.0 225.0\n",
      "gammat   1 3 141.0 179.0\n",
      "gammat   1 4 141.0 225.0\n",
      "gammat   2 1 44.0 225.0\n",
      "gammat   2 2 71.0 225.0\n",
      "gammat   2 3 89.0 179.0\n",
      "gammat   2 4 89.0 225.0\n",
      "gammat   3 1 35.0 225.0\n",
      "gammat   3 2 35.0 225.0\n",
      "gammat   3 3 56.0 225.0\n",
      "gammat   3 4 56.0 225.0\n",
      "gammat   4 1 28.0 225.0\n",
      "gammat   4 2 28.0 225.0\n",
      "gammat   4 3 28.0 225.0\n",
      "gammat   4 4 35.0 225.0\n"
     ]
    }
   ],
   "source": [
    "print('gamma t:')\n",
    "for i in range(1,5):\n",
    "    for j in range(1,5):\n",
    "        #print(i,j)\n",
    "        gammat_this = gammat[np.where((gammat[:,1] == i) &  (gammat[:,2] == j)) ]\n",
    "        if gammat_this.shape[0]>0:\n",
    "            theta_max = gammat_this[:,3].max()\n",
    "            theta_min = gammat_this[:,3].min()\n",
    "            print('gammat  ',i,j,np.floor(theta_min), np.ceil(theta_max))"
   ]
  },
  {
   "cell_type": "code",
   "execution_count": 45,
   "metadata": {},
   "outputs": [],
   "source": [
    "for i in range(wtheta.shape[0]):\n",
    "    wtheta[i,3] = thetas[int(wtheta[i,3])-1]"
   ]
  },
  {
   "cell_type": "code",
   "execution_count": 46,
   "metadata": {},
   "outputs": [
    {
     "name": "stdout",
     "output_type": "stream",
     "text": [
      "w(theta):\n",
      "wtheta   1 1 224.0 225.0\n",
      "wtheta   2 2 112.0 225.0\n",
      "wtheta   3 3 89.0 225.0\n",
      "wtheta   4 4 71.0 225.0\n"
     ]
    }
   ],
   "source": [
    "print('w(theta):')\n",
    "for i in range(1,5):\n",
    "    for j in range(1,5):\n",
    "        #print(i,j)\n",
    "        wtheta_this = wtheta[np.where((wtheta[:,1] == i) &  (wtheta[:,2] == j)) ]\n",
    "        if wtheta_this.shape[0]>0:\n",
    "            theta_max = wtheta_this[:,3].max()\n",
    "            theta_min = wtheta_this[:,3].min()\n",
    "            print('wtheta  ',i,j,np.floor(theta_min), np.ceil(theta_max))"
   ]
  },
  {
   "cell_type": "code",
   "execution_count": 47,
   "metadata": {},
   "outputs": [],
   "source": [
    "# some plotting\n",
    "theta_ind = used_items[:15,3]"
   ]
  },
  {
   "cell_type": "code",
   "execution_count": 48,
   "metadata": {},
   "outputs": [],
   "source": [
    "theta_this = []\n",
    "for tb in theta_ind:\n",
    "    theta_this.append(thetas[int(tb)-1])"
   ]
  },
  {
   "cell_type": "code",
   "execution_count": 49,
   "metadata": {},
   "outputs": [],
   "source": [
    "dat_this = dat[:15]"
   ]
  },
  {
   "cell_type": "code",
   "execution_count": 50,
   "metadata": {},
   "outputs": [],
   "source": [
    "err_this = []\n",
    "for i in range(len(theta_this)):\n",
    "    err_this.append(2.*np.sqrt(1./invcov[i,i]))"
   ]
  },
  {
   "cell_type": "code",
   "execution_count": 51,
   "metadata": {},
   "outputs": [],
   "source": [
    "tnl_this = dnl[:15]\n",
    "tl_this = dl[:15]"
   ]
  },
  {
   "cell_type": "markdown",
   "metadata": {},
   "source": [
    "example of the plot"
   ]
  },
  {
   "cell_type": "code",
   "execution_count": 52,
   "metadata": {},
   "outputs": [],
   "source": [
    "import matplotlib.pyplot as plt"
   ]
  },
  {
   "cell_type": "code",
   "execution_count": 53,
   "metadata": {},
   "outputs": [
    {
     "data": {
      "image/png": "[encoded data removed]",
      "text/plain": [
       "<Figure size 432x288 with 1 Axes>"
      ]
     },
     "metadata": {},
     "output_type": "display_data"
    }
   ],
   "source": [
    "plt.errorbar(theta_this, dat_this, yerr=err_this, linestyle = '', marker = 'o', barsabove=True, color = 'black')\n",
    "plt.semilogx(theta_this, tnl_this, label = 'nonlinear theory')\n",
    "plt.semilogx(theta_this, tl_this, label = 'linear theory')\n",
    "plt.axvspan(8, 28, alpha=0.5, color='grey')\n",
    "plt.xlim(8,250)\n",
    "plt.xscale('log')\n",
    "plt.xlabel(r'$\\theta$ (arcmin)', fontsize=15)\n",
    "plt.ylabel(r'$\\xi_+$', fontsize=15)\n",
    "plt.legend(loc='upper right')\n",
    "plt.show()"
   ]
  },
  {
   "cell_type": "code",
   "execution_count": null,
   "metadata": {},
   "outputs": [],
   "source": []
  }
 ],
 "metadata": {
  "kernelspec": {
   "display_name": "Python 3",
   "language": "python",
   "name": "python3"
  },
  "language_info": {
   "codemirror_mode": {
    "name": "ipython",
    "version": 3
   },
   "file_extension": ".py",
   "mimetype": "text/x-python",
   "name": "python",
   "nbconvert_exporter": "python",
   "pygments_lexer": "ipython3",
   "version": "3.6.2"
  }
 },
 "nbformat": 4,
 "nbformat_minor": 2
}
